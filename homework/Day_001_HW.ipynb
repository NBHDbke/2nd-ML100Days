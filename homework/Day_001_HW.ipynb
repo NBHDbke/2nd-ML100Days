{
 "cells": [
  {
   "cell_type": "markdown",
   "metadata": {},
   "source": [
    "### 作業1：\n",
    "\n",
    "請上 Kaggle, 在 Competitions 或 Dataset 中找一組競賽或資料並寫下：\n",
    "1. 你選的這組資料為何重要<br>\n",
    "    * Competition = [Two Sigma: Using News to Predict Stock Movements](https://www.kaggle.com/c/two-sigma-financial-news/overview)<br>\n",
    "    * 重要性：競賽名稱已經宣示，有機會以新聞來預測股價<br>\n",
    "    <br>\n",
    "2. 資料從何而來 (tips: 譬如提供者是誰、以什麼方式蒐集)<br>\n",
    "    * Market data provided by Intrinio.<br>\n",
    "    * News data provided by Thomson Reuters.<br>\n",
    "    <br>\n",
    "3. 蒐集而來的資料型態為何<br>\n",
    "    * csv格式的結構化資料<br>\n",
    "    * 如 [Data Description](https://www.kaggle.com/c/two-sigma-financial-news/data) 揭露的資訊：市場資料包含16個欄位、新聞資料包含35個欄位<br>\n",
    "    <br>\n",
    "4. 這組資料想解決的問題如何評估<br>\n",
    "    * 根據競賽規則計算score<br>\n",
    "    * $ \\text{score} = \\frac{\\bar{x}_t}{\\sigma(x_t)} $<br>\n",
    "\n",
    "### 作業2：\n",
    "\n",
    "想像你經營一個自由載客車隊，你希望能透過數據分析以提升業績，請你思考並描述你如何規劃整體的分析/解決方案：\n",
    "\n",
    "1. 核心問題為何 (tips：如何定義 「提升業績 & 你的假設」)<br>\n",
    "    * 假設：下雨天時，普遍會有更多有搭計程車的需求，<br>\n",
    "    * 提升業績：下雨天時，司機平均可以出更多車次<br>\n",
    "    <br>\n",
    "2. 資料從何而來 (tips：哪些資料可能會對你想問的問題產生影響 & 資料如何蒐集)<br>\n",
    "    * 氣象資料：蒐集氣象觀測站定時公告之衛星雲圖與氣象資訊（e.g. jpeg & csv files）<br>\n",
    "    * 出車資料：計程車的出車次數（e.g. csv files）<br>\n",
    "    <br>\n",
    "3. 蒐集而來的資料型態為何<br>\n",
    "    * 氣象資料為非結構化及結構化資料<br>\n",
    "    * 出車資料為結構化資料<br>\n",
    "    <br>\n",
    "4. 你要回答的問題，其如何評估 (tips：你的假設如何驗證)<br>\n",
    "    * 大量蒐集衛星雲圖，並透過氣象資料標記是否為下雨天，再據以訓練一個SVM分類器<br>\n",
    "    * 透過前開分類器預測下雨的時段，提前讓司機到大眾運輸不發達的地點排班候客<br>\n",
    "    * 設計實驗組與對照組，比較兩組的出車次數是否有顯著差異<br>\n",
    "\n",
    "### 作業3：\n",
    "### 練習時間\n",
    "#### 請寫一個函式用來計算 Mean Square Error\n",
    "$ MSE = \\frac{1}{n}\\sum_{i=1}^{n}{(Y_i - \\hat{Y}_i)^2} $\n",
    "\n",
    "### Hint: [如何取平方](https://googoodesign.gitbooks.io/-ezpython/unit-1.html)"
   ]
  },
  {
   "cell_type": "code",
   "execution_count": 29,
   "metadata": {},
   "outputs": [],
   "source": [
    "import numpy as np\n",
    "import matplotlib.pyplot as plt"
   ]
  },
  {
   "cell_type": "code",
   "execution_count": 34,
   "metadata": {},
   "outputs": [
    {
     "data": {
      "image/png": "[encoded data removed]",
      "text/plain": [
       "<Figure size 432x288 with 1 Axes>"
      ]
     },
     "metadata": {
      "needs_background": "light"
     },
     "output_type": "display_data"
    }
   ],
   "source": [
    "w = 3\n",
    "b = 0.5\n",
    "\n",
    "x_lin = np.linspace(0, 100, 101)\n",
    "\n",
    "y = (x_lin + np.random.randn(101) * 5) * w + b\n",
    "\n",
    "plt.plot(x_lin, y, 'b.', label = 'data points')\n",
    "plt.title(\"Assume we have data points\")\n",
    "plt.legend(loc = 2)\n",
    "plt.show()"
   ]
  },
  {
   "cell_type": "code",
   "execution_count": 35,
   "metadata": {},
   "outputs": [
    {
     "data": {
      "image/png": "[encoded data removed]",
      "text/plain": [
       "<Figure size 432x288 with 1 Axes>"
      ]
     },
     "metadata": {
      "needs_background": "light"
     },
     "output_type": "display_data"
    }
   ],
   "source": [
    "y_hat = x_lin * w + b\n",
    "plt.plot(x_lin, y, 'b.', label = 'data')\n",
    "plt.plot(x_lin, y_hat, 'r-', label = 'prediction')\n",
    "plt.title(\"Assume we have data points (And the prediction)\")\n",
    "plt.legend(loc = 2)\n",
    "plt.show()"
   ]
  },
  {
   "cell_type": "code",
   "execution_count": 36,
   "metadata": {},
   "outputs": [
    {
     "name": "stdout",
     "output_type": "stream",
     "text": [
      "The Mean absolute error is 12.034\n"
     ]
    }
   ],
   "source": [
    "def mean_absolute_error(y, yp):\n",
    "    \"\"\"\n",
    "    計算 MAE\n",
    "    Args:\n",
    "        - y: 實際值\n",
    "        - yp: 預測值\n",
    "    Return:\n",
    "        - mae: MAE\n",
    "    \"\"\"\n",
    "    mae = MAE = sum(abs(y - yp)) / len(y)\n",
    "    return mae\n",
    "\n",
    "MAE = mean_absolute_error(y, y_hat)\n",
    "print(\"The Mean absolute error is %.3f\" % (MAE))"
   ]
  },
  {
   "cell_type": "code",
   "execution_count": 37,
   "metadata": {},
   "outputs": [
    {
     "name": "stdout",
     "output_type": "stream",
     "text": [
      "The Mean Square Error is 224.130\n"
     ]
    }
   ],
   "source": [
    "def mean_squared_error(y, yp):\n",
    "    mse = MSE = sum(pow((y - yp), 2)) / len(y)\n",
    "    return mse\n",
    "\n",
    "MSE = mean_squared_error(y, y_hat)\n",
    "print(\"The Mean Square Error is %.3f\" % (MSE))"
   ]
  },
  {
   "cell_type": "code",
   "execution_count": 38,
   "metadata": {},
   "outputs": [
    {
     "name": "stdout",
     "output_type": "stream",
     "text": [
      "The Mean squared error is 224.130\n",
      "The Mean absolute error is 12.034\n"
     ]
    }
   ],
   "source": [
    "# 執行 Function, 確認有沒有正常執行\n",
    "MSE = mean_squared_error(y, y_hat)\n",
    "MAE = mean_absolute_error(y, y_hat)\n",
    "print(\"The Mean squared error is %.3f\" % (MSE))\n",
    "print(\"The Mean absolute error is %.3f\" % (MAE))"
   ]
  }
 ],
 "metadata": {
  "anaconda-cloud": {},
  "kernelspec": {
   "display_name": "Python 3",
   "language": "python",
   "name": "python3"
  },
  "language_info": {
   "codemirror_mode": {
    "name": "ipython",
    "version": 3
   },
   "file_extension": ".py",
   "mimetype": "text/x-python",
   "name": "python",
   "nbconvert_exporter": "python",
   "pygments_lexer": "ipython3",
   "version": "3.7.3"
  }
 },
 "nbformat": 4,
 "nbformat_minor": 1
}
